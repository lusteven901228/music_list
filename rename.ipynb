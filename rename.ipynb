{
 "cells": [
  {
   "cell_type": "code",
   "execution_count": 2,
   "metadata": {},
   "outputs": [],
   "source": [
    "import os\n",
    "import re\n",
    "import glob"
   ]
  },
  {
   "cell_type": "code",
   "execution_count": 3,
   "metadata": {},
   "outputs": [
    {
     "name": "stdout",
     "output_type": "stream",
     "text": [
      "Renamed: ./さユり/め/11 - るーららるーらーるららるーらー.flac -> ./さユり/め/11-るーららるーらーるららるーらー.flac\n",
      "Renamed: ./さユり/め/15 - 十億年.flac -> ./さユり/め/15-十億年.flac\n",
      "Renamed: ./さユり/め/7 - birthday song.flac -> ./さユり/め/07-birthday song.flac\n",
      "Renamed: ./さユり/め/14 - レイメイ.flac -> ./さユり/め/14-レイメイ.flac\n",
      "Renamed: ./さユり/め/12 - 月と花束.flac -> ./さユり/め/12-月と花束.flac\n",
      "Renamed: ./さユり/め/3 - 平行線.flac -> ./さユり/め/03-平行線.flac\n",
      "Renamed: ./さユり/め/4 - アノニマス.flac -> ./さユり/め/04-アノニマス.flac\n",
      "Renamed: ./さユり/め/13 - 来世で会おう.flac -> ./さユり/め/13-来世で会おう.flac\n",
      "Renamed: ./さユり/め/8 - 航海の唄.flac -> ./さユり/め/08-航海の唄.flac\n",
      "Renamed: ./さユり/め/2 - ミカヅキ.flac -> ./さユり/め/02-ミカヅキ.flac\n",
      "Renamed: ./さユり/め/10 - 蜂と見世物.flac -> ./さユり/め/10-蜂と見世物.flac\n",
      "Renamed: ./さユり/め/9 - オッドアイ.flac -> ./さユり/め/09-オッドアイ.flac\n",
      "Renamed: ./さユり/め/6 - それは小さな光のような.flac -> ./さユり/め/06-それは小さな光のような.flac\n",
      "Renamed: ./さユり/め/1 - 夜明けの詩.flac -> ./さユり/め/01-夜明けの詩.flac\n",
      "Renamed: ./さユり/め/5 - フラレガイガール.flac -> ./さユり/め/05-フラレガイガール.flac\n",
      "Renaming complete!\n"
     ]
    }
   ],
   "source": [
    "\n",
    "\n",
    "# Define the root directory to search for .flac files\n",
    "root_directory = './'\n",
    "\n",
    "# Use glob to find all .flac files recursively\n",
    "flac_files = glob.glob(os.path.join(root_directory, '**/*.flac'), recursive=True)\n",
    "\n",
    "# Regular expression to match the pattern\n",
    "pattern = re.compile(r'(?:Disc \\d+ - )?(\\d+) - (.+\\.flac)')\n",
    "\n",
    "# Iterate through all the .flac files found\n",
    "for file_path in flac_files:\n",
    "    filename = os.path.basename(file_path)\n",
    "    match = pattern.match(filename)\n",
    "    if match:\n",
    "        track_number = int(match.group(1))\n",
    "        title = match.group(2)\n",
    "\n",
    "        # Zero-pad the track number to two digits\n",
    "        new_filename = f'{track_number:02d}-{title}'\n",
    "\n",
    "        # Build the new full file path\n",
    "        new_file_path = os.path.join(os.path.dirname(file_path), new_filename)\n",
    "\n",
    "        # Rename the file\n",
    "        os.rename(file_path, new_file_path)\n",
    "        print(f'Renamed: {file_path} -> {new_file_path}')\n",
    "\n",
    "print('Renaming complete!')\n"
   ]
  },
  {
   "cell_type": "code",
   "execution_count": null,
   "metadata": {},
   "outputs": [],
   "source": [
    "\n",
    "# Define the root directory to search for .flac files\n",
    "root_directory = '/path/to/your/files'\n",
    "\n",
    "# Use glob to find all .flac files recursively\n",
    "flac_files = glob.glob(os.path.join(root_directory, '**/*.flac'), recursive=True)\n",
    "\n",
    "# Regular expression to match files with a single-digit track number\n",
    "pattern = re.compile(r'(\\d)-(.+\\.flac)')\n",
    "\n",
    "# Iterate through all the .flac files found\n",
    "for file_path in flac_files:\n",
    "    filename = os.path.basename(file_path)\n",
    "    match = pattern.match(filename)\n",
    "    if match:\n",
    "        track_number = int(match.group(1))  # Convert to an integer (1-9)\n",
    "        title = match.group(2)\n",
    "\n",
    "        # Zero-pad the track number to two digits\n",
    "        new_filename = f'{track_number:02d}-{title}'\n",
    "\n",
    "        # Build the new full file path\n",
    "        new_file_path = os.path.join(os.path.dirname(file_path), new_filename)\n",
    "\n",
    "        # Rename the file\n",
    "        os.rename(file_path, new_file_path)\n",
    "        print(f'Renamed: {file_path} -> {new_file_path}')\n",
    "\n",
    "print('Renaming complete!')\n"
   ]
  }
 ],
 "metadata": {
  "kernelspec": {
   "display_name": "Python 3",
   "language": "python",
   "name": "python3"
  },
  "language_info": {
   "codemirror_mode": {
    "name": "ipython",
    "version": 3
   },
   "file_extension": ".py",
   "mimetype": "text/x-python",
   "name": "python",
   "nbconvert_exporter": "python",
   "pygments_lexer": "ipython3",
   "version": "3.12.3"
  }
 },
 "nbformat": 4,
 "nbformat_minor": 2
}
