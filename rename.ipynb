{
 "cells": [
  {
   "cell_type": "code",
   "execution_count": null,
   "metadata": {},
   "outputs": [],
   "source": [
    "import os\n",
    "import re\n",
    "import glob"
   ]
  },
  {
   "cell_type": "code",
   "execution_count": null,
   "metadata": {},
   "outputs": [],
   "source": [
    "\n",
    "\n",
    "# Define the root directory to search for .flac files\n",
    "root_directory = './'\n",
    "\n",
    "# Use glob to find all .flac files recursively\n",
    "flac_files = glob.glob(os.path.join(root_directory, '**/*.flac'), recursive=True)\n",
    "\n",
    "# Regular expression to match the pattern\n",
    "pattern = re.compile(r'(?:Disc \\d+ - )?(\\d+) - (.+\\.flac)')\n",
    "\n",
    "# Iterate through all the .flac files found\n",
    "for file_path in flac_files:\n",
    "    filename = os.path.basename(file_path)\n",
    "    match = pattern.match(filename)\n",
    "    if match:\n",
    "        track_number = int(match.group(1))\n",
    "        title = match.group(2)\n",
    "\n",
    "        # Zero-pad the track number to two digits\n",
    "        new_filename = f'{track_number:02d}-{title}'\n",
    "\n",
    "        # Build the new full file path\n",
    "        new_file_path = os.path.join(os.path.dirname(file_path), new_filename)\n",
    "\n",
    "        # Rename the file\n",
    "        os.rename(file_path, new_file_path)\n",
    "        print(f'Renamed: {file_path} -> {new_file_path}')\n",
    "\n",
    "print('Renaming complete!')\n"
   ]
  },
  {
   "cell_type": "code",
   "execution_count": null,
   "metadata": {},
   "outputs": [],
   "source": [
    "\n",
    "# Define the root directory to search for .flac files\n",
    "root_directory = '/path/to/your/files'\n",
    "\n",
    "# Use glob to find all .flac files recursively\n",
    "flac_files = glob.glob(os.path.join(root_directory, '**/*.flac'), recursive=True)\n",
    "\n",
    "# Regular expression to match files with a single-digit track number\n",
    "pattern = re.compile(r'(\\d)-(.+\\.flac)')\n",
    "\n",
    "# Iterate through all the .flac files found\n",
    "for file_path in flac_files:\n",
    "    filename = os.path.basename(file_path)\n",
    "    match = pattern.match(filename)\n",
    "    if match:\n",
    "        track_number = int(match.group(1))  # Convert to an integer (1-9)\n",
    "        title = match.group(2)\n",
    "\n",
    "        # Zero-pad the track number to two digits\n",
    "        new_filename = f'{track_number:02d}-{title}'\n",
    "\n",
    "        # Build the new full file path\n",
    "        new_file_path = os.path.join(os.path.dirname(file_path), new_filename)\n",
    "\n",
    "        # Rename the file\n",
    "        os.rename(file_path, new_file_path)\n",
    "        print(f'Renamed: {file_path} -> {new_file_path}')\n",
    "\n",
    "print('Renaming complete!')\n"
   ]
  }
 ],
 "metadata": {
  "kernelspec": {
   "display_name": "Python 3",
   "language": "python",
   "name": "python3"
  },
  "language_info": {
   "codemirror_mode": {
    "name": "ipython",
    "version": 3
   },
   "file_extension": ".py",
   "mimetype": "text/x-python",
   "name": "python",
   "nbconvert_exporter": "python",
   "pygments_lexer": "ipython3",
   "version": "3.12.3"
  }
 },
 "nbformat": 4,
 "nbformat_minor": 2
}
